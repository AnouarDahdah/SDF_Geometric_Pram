{
  "nbformat": 4,
  "nbformat_minor": 0,
  "metadata": {
    "colab": {
      "provenance": [],
      "authorship_tag": "ABX9TyMFaqwMDYYTjoHaCNelBqI3",
      "include_colab_link": true
    },
    "kernelspec": {
      "name": "python3",
      "display_name": "Python 3"
    },
    "language_info": {
      "name": "python"
    }
  },
  "cells": [
    {
      "cell_type": "markdown",
      "metadata": {
        "id": "view-in-github",
        "colab_type": "text"
      },
      "source": [
        "<a href=\"https://colab.research.google.com/github/AnouarDahdah/SDF_Geometric_Pram/blob/main/cut_sections.ipynb\" target=\"_parent\"><img src=\"https://colab.research.google.com/assets/colab-badge.svg\" alt=\"Open In Colab\"/></a>"
      ]
    },
    {
      "cell_type": "code",
      "execution_count": null,
      "metadata": {
        "id": "bnkxEadTKRtB"
      },
      "outputs": [],
      "source": [
        "# Check shapes of SDF values\n",
        "print(\"Original SDF shape:\", sdf_values.shape)\n",
        "print(\"Refined SDF shape over time:\", refined_sdf_values_over_time.shape)\n",
        "\n",
        "# Reshape the original SDF values for visualization\n",
        "original_sdf_reshaped = sdf_values.numpy().reshape((grid_resolution, grid_resolution, grid_resolution))\n",
        "\n",
        "# Define the slice indices to visualize\n",
        "vertical_slice_index = grid_resolution // 2  # Middle index for vertical cut\n",
        "profile_slice_index = grid_resolution // 2    # Middle index for profile cut\n",
        "horizontal_slice_index = grid_resolution // 2  # Middle index for horizontal cut\n",
        "\n",
        "# Create the refined SDF visualization over 20 time steps\n",
        "plt.figure(figsize=(20, 12))\n",
        "\n",
        "# Vertical Cuts\n",
        "plt.subplot(3, 1, 1)  # One row, one column, and this is the first plot\n",
        "for i in range(20):\n",
        "    # Select the refined SDF slice\n",
        "    refined_sdf_slice = refined_sdf_values_over_time[i][:, 0].reshape((grid_resolution, grid_resolution, grid_resolution))\n",
        "\n",
        "    # Plot a vertical slice (along the y-axis)\n",
        "    plt.imshow(refined_sdf_slice[:, vertical_slice_index, :].T, cmap='viridis', origin='lower')  # Transposed vertical slice\n",
        "    plt.title(f'Vertical Cut at Time = {i + 1}')  # Changed to display time as 1, 2, ..., 20\n",
        "    plt.colorbar(label='SDF Value')\n",
        "    plt.axis('off')\n",
        "    plt.pause(0.1)  # Pause to allow visualization\n",
        "\n",
        "plt.tight_layout()\n",
        "plt.show()\n",
        "\n",
        "# Profile Cuts\n",
        "plt.figure(figsize=(20, 12))\n",
        "\n",
        "# Profile Cuts\n",
        "plt.subplot(3, 1, 1)  # One row, one column, and this is the first plot\n",
        "for i in range(20):\n",
        "    # Select the refined SDF slice\n",
        "    refined_sdf_slice = refined_sdf_values_over_time[i][:, 0].reshape((grid_resolution, grid_resolution, grid_resolution))\n",
        "\n",
        "    # Plot a profile slice (along the x-axis)\n",
        "    plt.imshow(refined_sdf_slice[profile_slice_index, :, :].T, cmap='viridis', origin='lower')  # Transposed profile slice\n",
        "    plt.title(f'Profile Cut at Time = {i + 1}')  # Changed to display time as 1, 2, ..., 20\n",
        "    plt.colorbar(label='SDF Value')\n",
        "    plt.axis('off')\n",
        "    plt.pause(0.1)  # Pause to allow visualization\n",
        "\n",
        "plt.tight_layout()\n",
        "plt.show()\n",
        "\n",
        "# Horizontal Cuts\n",
        "plt.figure(figsize=(20, 12))\n",
        "\n",
        "# Horizontal Cuts\n",
        "plt.subplot(3, 1, 1)  # One row, one column, and this is the first plot\n",
        "for i in range(20):\n",
        "    # Select the refined SDF slice\n",
        "    refined_sdf_slice = refined_sdf_values_over_time[i][:, 0].reshape((grid_resolution, grid_resolution, grid_resolution))\n",
        "\n",
        "    # Plot a horizontal slice (along the z-axis)\n",
        "    plt.imshow(refined_sdf_slice[:, :, horizontal_slice_index].T, cmap='viridis', origin='lower')  # Transposed horizontal slice\n",
        "    plt.title(f'Horizontal Cut at Time = {i + 1}')  # Changed to display time as 1, 2, ..., 20\n",
        "    plt.colorbar(label='SDF Value')\n",
        "    plt.axis('off')\n",
        "    plt.pause(0.1)  # Pause to allow visualization\n",
        "\n",
        "plt.tight_layout()\n",
        "plt.show()\n"
      ]
    }
  ]
}